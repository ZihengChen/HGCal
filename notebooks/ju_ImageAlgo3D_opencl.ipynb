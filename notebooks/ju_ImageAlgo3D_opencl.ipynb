{
 "cells": [
  {
   "cell_type": "code",
   "execution_count": 1,
   "metadata": {
    "collapsed": true
   },
   "outputs": [],
   "source": [
    "from pylab import *\n",
    "import pandas as pd\n",
    "from timeit import default_timer as timer\n",
    "from HGCal_ImageAlgo3D_kernel_opencl import *\n",
    "\n",
    "lsz,context,prg = openclkernel(DeviceID=0)\n",
    "queue = cl.CommandQueue(context)\n",
    "# For deviceid:\n",
    "# 0 ...... Intel-Core-i7 CPU: 0001 WI/WG\n",
    "# 1 ...... Intel-IrisPro GPU: 0512 WI/WG\n",
    "# 2 ...... NVidia-GT750M GPU: 1024 WI/WG\n",
    "demoevent = \"id>=11 & id<=20  \"\n",
    "#demoevent = \"id==1\"\n",
    "DatasetDir  = '/Users/zihengchen/Documents/HGCal/workplace/data/'\n",
    "DatasetFile = 'CMSSW93X_pt35_pu000'\n",
    "#DatasetFile = 'CMSSW9304_partGun_PDGid22_x1000_E300.0To300.0_NTUP'"
   ]
  },
  {
   "cell_type": "code",
   "execution_count": 2,
   "metadata": {
    "collapsed": true
   },
   "outputs": [],
   "source": [
    "df = pd.read_pickle(DatasetDir+\"input/\"+DatasetFile+\"_rechit.pkl\")\n",
    "dfgen = pd.read_pickle(DatasetDir+\"input/\"+DatasetFile+\"_gen.pkl\")"
   ]
  },
  {
   "cell_type": "code",
   "execution_count": 3,
   "metadata": {
    "collapsed": true
   },
   "outputs": [],
   "source": [
    "MAXDISTANCE        = np.float32(200)  #cm\n",
    "LAYER_DISTANCE     = np.float32(0.5)  #cm\n",
    "KERNAL_R           = np.float32(6.0)  #cm\n",
    "KERNAL_R_NORM      = np.float32(4.0)  #cm\n",
    "KERNAL_R_POWER     = np.float32(1.0)  #cm\n",
    "KERNAL_LAYER       = np.float32(3.0)  #number of layer\n",
    "DECISION_RHO_KAPPA = np.float32(12.0) #fractio of max rho\n",
    "DECISION_NHD       = np.float32(4.0)  #cm\n",
    "CONTINUITY_NHD     = np.float32(6.0)  #cm \n",
    "\n",
    "KERNAL_Z           = KERNAL_LAYER*LAYER_DISTANCE"
   ]
  },
  {
   "cell_type": "markdown",
   "metadata": {},
   "source": [
    "# 0.Load Events"
   ]
  },
  {
   "cell_type": "code",
   "execution_count": 4,
   "metadata": {
    "collapsed": true
   },
   "outputs": [],
   "source": [
    "dfevt = df.query(demoevent)\n",
    "dfevt = dfevt.reset_index(drop=True)\n",
    "\n",
    "x = np.array(dfevt.x).astype(np.float32)\n",
    "y = np.array(dfevt.y).astype(np.float32)\n",
    "z = (np.array(dfevt.z) * LAYER_DISTANCE).astype(np.float32)\n",
    "e = np.array(dfevt.energy).astype(np.float32)\n",
    "\n",
    "N = np.int32(e.size)"
   ]
  },
  {
   "cell_type": "markdown",
   "metadata": {},
   "source": [
    "# 1. Find rho and NearestHigher"
   ]
  },
  {
   "cell_type": "code",
   "execution_count": 5,
   "metadata": {},
   "outputs": [
    {
     "name": "stdout",
     "output_type": "stream",
     "text": [
      "number of rechits: 6429\n",
      "time: 72.3361 ms\n"
     ]
    }
   ],
   "source": [
    "\n",
    "LOCALSIZE = int(lsz)\n",
    "GLOBALSIZE= (int(N/LOCALSIZE)+1)*LOCALSIZE\n",
    "\n",
    "rho     = np.zeros(N).astype(np.float32)\n",
    "rhorank = np.zeros(N).astype(np.int32)\n",
    "nh      = np.zeros(N).astype(np.int32)\n",
    "nhd     = np.zeros(N).astype(np.float32)\n",
    "\n",
    "start = timer()\n",
    "mem_flags = cl.mem_flags\n",
    "d_x = cl.Buffer(context, mem_flags.READ_ONLY | mem_flags.COPY_HOST_PTR, hostbuf=x)\n",
    "d_y = cl.Buffer(context, mem_flags.READ_ONLY | mem_flags.COPY_HOST_PTR, hostbuf=y)\n",
    "d_z = cl.Buffer(context, mem_flags.READ_ONLY | mem_flags.COPY_HOST_PTR, hostbuf=z)\n",
    "d_e = cl.Buffer(context, mem_flags.READ_ONLY | mem_flags.COPY_HOST_PTR, hostbuf=e)\n",
    "d_rho     = cl.Buffer(context, mem_flags.READ_WRITE, rho.nbytes)\n",
    "d_rhorank = cl.Buffer(context, mem_flags.READ_WRITE, rhorank.nbytes)\n",
    "d_nh      = cl.Buffer(context, mem_flags.READ_WRITE, nh.nbytes)\n",
    "d_nhd     = cl.Buffer(context, mem_flags.READ_WRITE, nhd.nbytes)\n",
    "\n",
    "prg.rho_opencl(queue, (GLOBALSIZE,), (LOCALSIZE,),\n",
    "               d_rho,\n",
    "               d_x, d_y, d_z, d_e,\n",
    "               N, KERNAL_R, KERNAL_R_NORM, KERNAL_R_POWER, KERNAL_Z\n",
    "              )\n",
    "\n",
    "prg.rhoranknh_opencl(queue, (GLOBALSIZE,), (LOCALSIZE,),\n",
    "              d_rhorank,d_nh,d_nhd,\n",
    "              d_x,d_y,d_z,d_rho,\n",
    "              N, MAXDISTANCE\n",
    "             )\n",
    "\n",
    "\n",
    "cl.enqueue_copy(queue, rho, d_rho)\n",
    "cl.enqueue_copy(queue, rhorank, d_rhorank)\n",
    "cl.enqueue_copy(queue, nh, d_nh)\n",
    "cl.enqueue_copy(queue, nhd, d_nhd)\n",
    "\n",
    "end = timer()\n",
    "print(\"number of rechits: {}\".format(N))\n",
    "print(\"time: {:3.6} ms\".format(1000*(end - start)))"
   ]
  },
  {
   "cell_type": "markdown",
   "metadata": {
    "collapsed": true
   },
   "source": [
    "# 2. Asign Clusters"
   ]
  },
  {
   "cell_type": "code",
   "execution_count": 6,
   "metadata": {
    "collapsed": true
   },
   "outputs": [],
   "source": [
    "cluster = -np.ones(N,int)\n",
    "DECISION_RHO = rho.max()/DECISION_RHO_KAPPA\n",
    "\n",
    "# 2.1 convert rhorank to argsortrho 0(N)\n",
    "argsortrho = np.zeros(N,int)\n",
    "argsortrho[rhorank] = np.arange(N)\n",
    "\n",
    "# 2.2 find seeds\n",
    "selectseed = (rho>DECISION_RHO) & (nhd>DECISION_NHD)\n",
    "seedrho = rho[selectseed]\n",
    "temp = seedrho.argsort()[::-1]\n",
    "seedid = np.empty(len(seedrho), int)\n",
    "seedid[temp] = np.arange(len(seedrho))\n",
    "cluster[selectseed] = seedid\n",
    "\n",
    "\n",
    "# 2.3 asign clusters to seeds\n",
    "for ith in range(N):\n",
    "    i = argsortrho[ith]\n",
    "    if  (cluster[i]<0) & (nhd[i]<CONTINUITY_NHD):\n",
    "        cluster[i] = cluster[nh[i]]"
   ]
  },
  {
   "cell_type": "code",
   "execution_count": 7,
   "metadata": {
    "collapsed": true
   },
   "outputs": [],
   "source": [
    "dfevt['rho']     = pd.Series(rho,        index=dfevt.index)\n",
    "dfevt['rhorank'] = pd.Series(rhorank,    index=dfevt.index)\n",
    "dfevt['nh']      = pd.Series(nh,         index=dfevt.index)\n",
    "dfevt['nhd']     = pd.Series(nhd,        index=dfevt.index)\n",
    "dfevt['isseed']  = pd.Series(selectseed, index=dfevt.index)\n",
    "dfevt['cluster'] = pd.Series(cluster,    index=dfevt.index)"
   ]
  },
  {
   "cell_type": "code",
   "execution_count": 8,
   "metadata": {
    "collapsed": true
   },
   "outputs": [],
   "source": [
    "########################################\n",
    "##        END of image algorithm      ##\n",
    "##             output result          ##\n",
    "########################################\n",
    "        \n",
    "ievent = dfevt.id[0]\n",
    "\n",
    "clustx,clusty,clustz,clustenergy = [],[],[],[]\n",
    "for seed in seedid:\n",
    "    sel = (cluster == seed)\n",
    "    seedenergy = np.sum(dfevt.energy[sel])\n",
    "    seedx = np.sum(dfevt.energy[sel]*dfevt.ox[sel])/seedenergy\n",
    "    seedy = np.sum(dfevt.energy[sel]*dfevt.oy[sel])/seedenergy\n",
    "    seedz = np.sum(dfevt.energy[sel]*dfevt.oz[sel])/seedenergy\n",
    "            \n",
    "    clustenergy.append(seedenergy)\n",
    "    clustx.append(seedx)\n",
    "    clusty.append(seedy)\n",
    "    clustz.append(seedz)\n",
    "clustenergy = np.array(clustenergy)\n",
    "clustx = np.array(clustx)\n",
    "clusty = np.array(clusty)\n",
    "clustz = np.array(clustz)\n",
    "clust_inputenergy    = np.sum(dfevt.energy)\n",
    "clust_includedenergy = np.sum(clustenergy)\n",
    "\n",
    "dfclus = pd.DataFrame({\"id\"  :[ievent],\n",
    "                       \"clust_n\":[len(clustx)],\n",
    "                       \"clust_x\":[clustx],\n",
    "                       \"clust_y\":[clusty],\n",
    "                       \"clust_z\":[clustz],\n",
    "                       \"clust_energy\":[clustenergy],\n",
    "                       \"clust_inputenergy\":[clust_inputenergy],\n",
    "                       \"clust_includedenergy\":[clust_includedenergy]})"
   ]
  },
  {
   "cell_type": "markdown",
   "metadata": {},
   "source": [
    "# Done! make validation plots"
   ]
  },
  {
   "cell_type": "markdown",
   "metadata": {
    "collapsed": true
   },
   "source": [
    "### Decision Plot"
   ]
  },
  {
   "cell_type": "code",
   "execution_count": 9,
   "metadata": {
    "collapsed": true
   },
   "outputs": [],
   "source": [
    "%matplotlib inline\n",
    "plt.style.use('classic')\n",
    "plt.rc(\"figure\",facecolor=\"w\",figsize=(6,4))\n",
    "plt.rc(\"font\",size=10)\n",
    "plt.rc(\"savefig\",dpi=300)"
   ]
  },
  {
   "cell_type": "code",
   "execution_count": 10,
   "metadata": {},
   "outputs": [
    {
     "data": {
      "image/png": "[encoded data removed]",
      "text/plain": [
       "<matplotlib.figure.Figure at 0x109b0ef28>"
      ]
     },
     "metadata": {},
     "output_type": "display_data"
    }
   ],
   "source": [
    "plt.scatter(rho[selectseed], nhd[selectseed],marker='s',\n",
    "            s=70,edgecolor=\"k\",color=\"None\",label=\"seed rechits\")\n",
    "plt.scatter(rho, nhd,marker='.',edgecolor=\"None\",color=\"k\",label=\"rechits\")\n",
    "plt.axvline(DECISION_RHO,color=\"b\",label=\"seed requirement\")\n",
    "plt.axhline(DECISION_NHD,color=\"b\")\n",
    "\n",
    "plt.xlabel(\"Energy Density [GeV]\")\n",
    "plt.ylabel(\"HND [cm]\")\n",
    "plt.legend(loc=\"upper left\",fontsize=12)\n",
    "plt.xlim(-0.3)\n",
    "plt.ylim(-10,220)\n",
    "plt.grid(True)\n",
    "plt.title(\"Decision Plot\",fontsize=12)\n",
    "\n",
    "plt.savefig(\"../../plot/decision_opencl.png\")"
   ]
  },
  {
   "cell_type": "markdown",
   "metadata": {
    "collapsed": true
   },
   "source": [
    "### Plotly EventDisplay"
   ]
  },
  {
   "cell_type": "code",
   "execution_count": 11,
   "metadata": {
    "collapsed": true
   },
   "outputs": [],
   "source": [
    "gen = dfgen.query(demoevent)"
   ]
  },
  {
   "cell_type": "code",
   "execution_count": 12,
   "metadata": {
    "collapsed": true
   },
   "outputs": [],
   "source": [
    "n = len(gen)\n",
    "genx = np.zeros(n*2)\n",
    "geny = np.zeros(n*2)\n",
    "genz = np.zeros(n*2)\n",
    "for i in range(n):\n",
    "    genx[2*i]=np.array(gen.gx)[i]\n",
    "    geny[2*i]=np.array(gen.gy)[i]\n",
    "    genz[2*i]=np.array(gen.gz)[i]"
   ]
  },
  {
   "cell_type": "code",
   "execution_count": 20,
   "metadata": {},
   "outputs": [
    {
     "data": {
      "text/html": [
       "<script>requirejs.config({paths: { 'plotly': ['https://cdn.plot.ly/plotly-latest.min']},});if(!window.Plotly) {{require(['plotly'],function(plotly) {window.Plotly=plotly;});}}</script>"
      ],
      "text/vnd.plotly.v1+html": [
       "<script>requirejs.config({paths: { 'plotly': ['https://cdn.plot.ly/plotly-latest.min']},});if(!window.Plotly) {{require(['plotly'],function(plotly) {window.Plotly=plotly;});}}</script>"
      ]
     },
     "metadata": {},
     "output_type": "display_data"
    },
    {
     "name": "stderr",
     "output_type": "stream",
     "text": [
      "/Users/zihengchen/anaconda/lib/python3.6/site-packages/plotly/offline/offline.py:459: UserWarning:\n",
      "\n",
      "Your filename `TEST` didn't end with .html. Adding .html to the end of your file.\n",
      "\n"
     ]
    },
    {
     "data": {
      "text/plain": [
       "'file:///Users/zihengchen/Documents/HGCal/workplace/notebooks/demo/TEST.html'"
      ]
     },
     "execution_count": 20,
     "metadata": {},
     "output_type": "execute_result"
    }
   ],
   "source": [
    "import plotly.plotly as py\n",
    "import plotly.graph_objs as go\n",
    "from plotly.offline import download_plotlyjs, init_notebook_mode, plot, iplot\n",
    "import plotly\n",
    "init_notebook_mode(connected=True)\n",
    "\n",
    "dfevt = dfevt.reset_index(drop=True)\n",
    "\n",
    "# 1. clusterred rechits\n",
    "tempdf = dfevt.query('cluster>-1')\n",
    "tempx,tempy,tempz,tempe,tempclst = tempdf.ox,tempdf.oy,tempdf.oz,tempdf.energy,tempdf.cluster.max()-tempdf.cluster\n",
    "rechits = go.Scatter3d(x=tempx,y=tempz,z=tempy,\n",
    "                       mode='markers',\n",
    "                       marker=dict(size=14*tempe**0.5,color=tempclst,colorscale='Jet',cmax=tempclst.max(),cmin=0,opacity=0.7,\n",
    "                                   line = dict(width = 0))) \n",
    "\n",
    "# 2. noise rechits\n",
    "tempdf = dfevt.query('(cluster==-1) & (energy>0.02)')\n",
    "\n",
    "tempx,tempy,tempz,tempe,tempclst = tempdf.ox,tempdf.oy,tempdf.oz,tempdf.energy,-1\n",
    "noise   = go.Scatter3d(x=tempx,y=tempz,z=tempy,\n",
    "                       mode='markers',\n",
    "                       marker=dict(size=2,color=\"gray\",opacity=1,\n",
    "                                   line = dict(width = 0))) \n",
    "# 3. clusters\n",
    "tempx,tempy,tempz,tempe = dfclus.clust_x[0],dfclus.clust_y[0],dfclus.clust_z[0],dfclus.clust_energy[0]\n",
    "cluster = go.Scatter3d(x=tempx,y=tempz,z=tempy,\n",
    "                       mode='markers',\n",
    "                       marker=dict(size=5*tempe**0.5,color=\"gray\",opacity=0.8,symbol=\"square\",\n",
    "                                   line = dict(width = 2, color=\"black\"))) \n",
    "\n",
    "# 4. gen particle\n",
    "genpart = go.Scatter3d(x=genx,\n",
    "                       y=genz,\n",
    "                       z=geny,\n",
    "                       mode='lines',marker=dict(size=0,color=\"black\",opacity=1)) \n",
    "\n",
    "x,y,z = geom(1.48,3.0,320,352)\n",
    "geomEE = go.Surface(x=x, y=z, z=y, surfacecolor=0.5*np.ones_like(y),cmin=0,cmax=1,opacity=0.3)\n",
    "x,y,z = geom(1.48,3.0,357,410)\n",
    "geomFH = go.Surface(x=x, y=z, z=y, surfacecolor=0.5*np.ones_like(y),cmin=0,cmax=1,opacity=0.3)\n",
    "x,y,z = geom(1.4,3.0,415,500)\n",
    "geomBH = go.Surface(x=x, y=z, z=y, surfacecolor=0.5*np.ones_like(y),cmin=0,cmax=1,opacity=0.3)\n",
    "\n",
    "\n",
    "data = [geomEE,geomFH,geomBH,rechits,noise,cluster,genpart]\n",
    "layout = go.Layout(scene=dict(xaxis=dict(title='x (cm)'), yaxis=dict(title='z (cm)'), zaxis=dict(title='y (cm)')),\n",
    "                   margin=dict(l=0,r=0,b=0,t=0))\n",
    "\n",
    "fig = go.Figure(data=data, layout=layout)\n",
    "plot(fig, filename='TEST')"
   ]
  },
  {
   "cell_type": "code",
   "execution_count": 14,
   "metadata": {
    "collapsed": true
   },
   "outputs": [],
   "source": [
    "def geom(eta0,eta1,z0,z1):\n",
    "    R,r = 200,400\n",
    "    theta0 = 2*np.arctan(np.exp(-eta0))\n",
    "    theta1 = 2*np.arctan(np.exp(-eta1))\n",
    "        \n",
    "    phi = np.linspace(0, 2 * np.pi, 240)\n",
    "    rad = np.linspace(0, 2 * np.pi, 240)\n",
    "    phi, rad = np.meshgrid(phi,rad)\n",
    "    \n",
    "    z   = ((z0+z1)/2 + r*np.sin(rad)).clip(z0,z1)\n",
    "    rho = (R+r*np.cos(rad))\n",
    "    \n",
    "    for i in range(240):\n",
    "        for j in range(240):\n",
    "            rhomax = z[i,j]*np.tan(theta0)\n",
    "            rhomin = z[i,j]*np.tan(theta1)\n",
    "            if rho[i,j] > rhomax:\n",
    "                rho[i,j] = rhomax\n",
    "            if rho[i,j] < rhomin:\n",
    "                rho[i,j] = rhomin\n",
    "    rho = rho.clip(0,250)\n",
    "                \n",
    "    x = rho*np.cos(phi) \n",
    "    y = rho*np.sin(phi) \n",
    "    \n",
    "    return x,y,z"
   ]
  },
  {
   "cell_type": "code",
   "execution_count": 93,
   "metadata": {},
   "outputs": [
    {
     "name": "stderr",
     "output_type": "stream",
     "text": [
      "/Users/zihengchen/anaconda/lib/python3.6/site-packages/plotly/offline/offline.py:459: UserWarning:\n",
      "\n",
      "Your filename `Parametric_plot` didn't end with .html. Adding .html to the end of your file.\n",
      "\n"
     ]
    },
    {
     "data": {
      "text/plain": [
       "'file:///Users/zihengchen/Documents/HGCal/workplace/notebooks/demo/Parametric_plot.html'"
      ]
     },
     "execution_count": 93,
     "metadata": {},
     "output_type": "execute_result"
    }
   ],
   "source": [
    "x,y,z = geom(1.4,3,320,500)\n",
    "surface = go.Surface(x=x, y=z, z=y)\n",
    "data = [surface]\n",
    "\n",
    "layout = go.Layout(scene=dict(xaxis=dict(title='x (cm)'), yaxis=dict(title='z (cm)'), zaxis=dict(title='y (cm)')),\n",
    "                   margin=dict(l=0,r=0,b=0,t=0),)\n",
    "\n",
    "fig = go.Figure(data=data, layout=layout)\n",
    "plot(fig, filename='Parametric_plot')\n"
   ]
  },
  {
   "cell_type": "code",
   "execution_count": 61,
   "metadata": {},
   "outputs": [
    {
     "data": {
      "text/plain": [
       "True"
      ]
     },
     "execution_count": 61,
     "metadata": {},
     "output_type": "execute_result"
    }
   ],
   "source": [
    "inf >10"
   ]
  },
  {
   "cell_type": "code",
   "execution_count": 86,
   "metadata": {},
   "outputs": [
    {
     "data": {
      "text/plain": [
       "array([[ 400.        ,  400.        ,  400.        , ...,  400.        ,\n",
       "         400.        ,  400.        ],\n",
       "       [ 405.25729002,  405.25729002,  405.25729002, ...,  405.25729002,\n",
       "         405.25729002,  405.25729002],\n",
       "       [ 410.51094675,  410.51094675,  410.51094675, ...,  410.51094675,\n",
       "         410.51094675,  410.51094675],\n",
       "       ..., \n",
       "       [ 389.48905325,  389.48905325,  389.48905325, ...,  389.48905325,\n",
       "         389.48905325,  389.48905325],\n",
       "       [ 394.74270998,  394.74270998,  394.74270998, ...,  394.74270998,\n",
       "         394.74270998,  394.74270998],\n",
       "       [ 400.        ,  400.        ,  400.        , ...,  400.        ,\n",
       "         400.        ,  400.        ]])"
      ]
     },
     "execution_count": 86,
     "metadata": {},
     "output_type": "execute_result"
    }
   ],
   "source": [
    "for i in range(240):\n",
    "    for j in range(240):\n",
    "        tempz = z[i,j]\n",
    "        rhomax = tempz*np.tan(theta0)\n",
    "        rhomin = tempz*np.tan(theta1)\n",
    "        if rho[i,j] > rhomax:\n",
    "            rho[i,j] = rhomax\n",
    "        if rho[i,j] < rhomin:\n",
    "            rho[i,j] = rhomin\n",
    "            \n",
    "        "
   ]
  },
  {
   "cell_type": "code",
   "execution_count": null,
   "metadata": {
    "collapsed": true
   },
   "outputs": [],
   "source": []
  }
 ],
 "metadata": {
  "kernelspec": {
   "display_name": "Python 3",
   "language": "python",
   "name": "python3"
  },
  "language_info": {
   "codemirror_mode": {
    "name": "ipython",
    "version": 3
   },
   "file_extension": ".py",
   "mimetype": "text/x-python",
   "name": "python",
   "nbconvert_exporter": "python",
   "pygments_lexer": "ipython3",
   "version": "3.6.4"
  }
 },
 "nbformat": 4,
 "nbformat_minor": 2
}
